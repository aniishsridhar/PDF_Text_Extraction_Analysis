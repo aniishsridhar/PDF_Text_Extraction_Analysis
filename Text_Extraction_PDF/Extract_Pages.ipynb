{
  "nbformat": 4,
  "nbformat_minor": 0,
  "metadata": {
    "colab": {
      "provenance": []
    },
    "kernelspec": {
      "name": "python3",
      "display_name": "Python 3"
    },
    "language_info": {
      "name": "python"
    }
  },
  "cells": [
    {
      "cell_type": "code",
      "source": [
        "!pip install PyPDF2\n",
        "!pip install pdfminer\n",
        "!pip install pdfplumber\n",
        "!pip install pytesseract"
      ],
      "metadata": {
        "colab": {
          "base_uri": "https://localhost:8080/"
        },
        "id": "RWlQLBN9F83I",
        "outputId": "e57b15e7-443f-42bb-ffc1-320580ec3960"
      },
      "execution_count": 10,
      "outputs": [
        {
          "output_type": "stream",
          "name": "stdout",
          "text": [
            "Requirement already satisfied: PyPDF2 in /usr/local/lib/python3.11/dist-packages (3.0.1)\n",
            "Requirement already satisfied: pdfminer in /usr/local/lib/python3.11/dist-packages (20191125)\n",
            "Requirement already satisfied: pycryptodome in /usr/local/lib/python3.11/dist-packages (from pdfminer) (3.21.0)\n",
            "Requirement already satisfied: pdfplumber in /usr/local/lib/python3.11/dist-packages (0.11.5)\n",
            "Requirement already satisfied: pdfminer.six==20231228 in /usr/local/lib/python3.11/dist-packages (from pdfplumber) (20231228)\n",
            "Requirement already satisfied: Pillow>=9.1 in /usr/local/lib/python3.11/dist-packages (from pdfplumber) (11.1.0)\n",
            "Requirement already satisfied: pypdfium2>=4.18.0 in /usr/local/lib/python3.11/dist-packages (from pdfplumber) (4.30.1)\n",
            "Requirement already satisfied: charset-normalizer>=2.0.0 in /usr/local/lib/python3.11/dist-packages (from pdfminer.six==20231228->pdfplumber) (3.4.1)\n",
            "Requirement already satisfied: cryptography>=36.0.0 in /usr/local/lib/python3.11/dist-packages (from pdfminer.six==20231228->pdfplumber) (43.0.3)\n",
            "Requirement already satisfied: cffi>=1.12 in /usr/local/lib/python3.11/dist-packages (from cryptography>=36.0.0->pdfminer.six==20231228->pdfplumber) (1.17.1)\n",
            "Requirement already satisfied: pycparser in /usr/local/lib/python3.11/dist-packages (from cffi>=1.12->cryptography>=36.0.0->pdfminer.six==20231228->pdfplumber) (2.22)\n",
            "Requirement already satisfied: pytesseract in /usr/local/lib/python3.11/dist-packages (0.3.13)\n",
            "Requirement already satisfied: packaging>=21.3 in /usr/local/lib/python3.11/dist-packages (from pytesseract) (24.2)\n",
            "Requirement already satisfied: Pillow>=8.0.0 in /usr/local/lib/python3.11/dist-packages (from pytesseract) (11.1.0)\n"
          ]
        }
      ]
    },
    {
      "cell_type": "code",
      "execution_count": 11,
      "metadata": {
        "colab": {
          "base_uri": "https://localhost:8080/"
        },
        "id": "1lN9rYk2Fzui",
        "outputId": "dd620119-29ec-4588-a4b1-a068c2b19949"
      },
      "outputs": [
        {
          "output_type": "stream",
          "name": "stdout",
          "text": [
            "Drive already mounted at /content/drive; to attempt to forcibly remount, call drive.mount(\"/content/drive\", force_remount=True).\n"
          ]
        }
      ],
      "source": [
        "from google.colab import drive\n",
        "from PyPDF2 import PdfReader, PdfWriter\n",
        "import pandas as pd\n",
        "import glob\n",
        "\n",
        "drive.mount('/content/drive')"
      ]
    },
    {
      "cell_type": "code",
      "source": [
        "%cd /content/drive/My Drive/Colab Notebooks/\n"
      ],
      "metadata": {
        "id": "GBGFba0wGuTR",
        "colab": {
          "base_uri": "https://localhost:8080/"
        },
        "outputId": "42dbad49-c66d-4ff9-bbd7-a3cbddc15bab"
      },
      "execution_count": 12,
      "outputs": [
        {
          "output_type": "stream",
          "name": "stdout",
          "text": [
            "/content/drive/My Drive/Colab Notebooks\n"
          ]
        }
      ]
    },
    {
      "cell_type": "code",
      "source": [
        "data = pd.read_csv(\"PageList.csv\")\n"
      ],
      "metadata": {
        "id": "Qvl2OBZCmbvX"
      },
      "execution_count": 13,
      "outputs": []
    },
    {
      "cell_type": "code",
      "source": [
        "files_name = []\n",
        "for file in glob.glob(\"./pdf_source/*.pdf\"): #create a subfolder called pdf_source\n",
        "  files_name.append(file.split(\"/\")[2])\n",
        "\n"
      ],
      "metadata": {
        "id": "nUDlllvIuCCz"
      },
      "execution_count": 14,
      "outputs": []
    },
    {
      "cell_type": "code",
      "source": [
        "def create_page(pdf_doc, page_num):\n",
        "    pdfWriter = PdfWriter()\n",
        "    pdfWriter.add_page(pdf_doc.pages[page_num-1])\n",
        "    with open('./pdf_pages/{0}_{1}.pdf'.format(file_base_name, page_num), 'wb') as f: #\n",
        "        pdfWriter.write(f)\n",
        "        f.close()"
      ],
      "metadata": {
        "id": "eXfwCuJENCgt"
      },
      "execution_count": 15,
      "outputs": []
    },
    {
      "cell_type": "code",
      "source": [
        "counter = 0\n",
        "for current_file in files_name:\n",
        "    pdf_file_path = current_file\n",
        "    file_base_name = pdf_file_path.replace('.pdf', '')\n",
        "    data_current_pdf = data[data['unique_sourcePDF_id'] == file_base_name]\n",
        "\n",
        "    pdf = PdfReader(\"./pdf_source/\" + pdf_file_path)\n",
        "    pages = data_current_pdf['page'].values # page 1, 3, 5\n",
        "    for values in pages:\n",
        "      create_page(pdf, int(values))\n",
        "      counter = counter + 1\n",
        "\n",
        "print(\"Number of documents extracted is equal to \", counter  )"
      ],
      "metadata": {
        "id": "FCx4vYaOG5Sx",
        "colab": {
          "base_uri": "https://localhost:8080/"
        },
        "outputId": "b9bacb5a-88c0-46b1-a3c3-a8c976085ea0"
      },
      "execution_count": 16,
      "outputs": [
        {
          "output_type": "stream",
          "name": "stdout",
          "text": [
            "Number of documents extracted is equal to  308\n"
          ]
        }
      ]
    },
    {
      "cell_type": "code",
      "source": [],
      "metadata": {
        "id": "KoRbKCDemRaG"
      },
      "execution_count": 16,
      "outputs": []
    }
  ]
}